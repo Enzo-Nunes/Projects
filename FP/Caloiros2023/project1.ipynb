{
 "cells": [
  {
   "cell_type": "code",
   "execution_count": 10,
   "metadata": {},
   "outputs": [
    {
     "name": "stdout",
     "output_type": "stream",
     "text": [
      "False\n"
     ]
    }
   ],
   "source": [
    "alfabeto = 'ABCDEFGHIJKLMNOPQRSTUVWXYZ'\n",
    "\n",
    "def eh_território(arg):\n",
    "\tif not isinstance(arg, tuple):\n",
    "\t\treturn False\n",
    "\tfor x in arg:\n",
    "\t\tif not isinstance(x, tuple):\n",
    "\t\t\treturn False\n",
    "\t\tfor y in x:\n",
    "\t\t\tif not isinstance(y, int):\n",
    "\t\t\t\treturn False\n",
    "\t\t\tif y != 0 and y != 1:\n",
    "\t\t\t\treturn False\n",
    "\treturn True\n",
    "\n",
    "def obtem_ultima_intersecao(t):\n",
    "\treturn \talfabeto[len(t)-1], len(t[0])\n",
    "\n",
    "def eh_intersecao(arg):\n",
    "\tif not isinstance(arg, tuple):\n",
    "\t\treturn False\n",
    "\tif not isinstance(arg[0], str):\n",
    "\t\treturn False\n",
    "\tif not isinstance(arg[1], int):\n",
    "\t\treturn False\n",
    "\treturn True\n",
    "\n",
    "def eh_intersecao_valida(t, i):\n",
    "\tif not eh_território(t):\n",
    "\t\treturn False\n",
    "\tif not eh_intersecao(i):\n",
    "\t\treturn False\n",
    "\tif 'A' <= i[0] <= alfabeto[len(t)-1] and 1 <= i[1] <= len(t[0]):\n",
    "\t\treturn True\n",
    "\treturn False\n",
    "\n",
    "def eh_intersecao_livre(t, i):\n",
    "\tif not eh_intersecao_valida(t, i):\n",
    "\t\treturn False\n",
    "\tif t[alfabeto.index(i[0])][i[1]-1] == 0:\n",
    "\t\treturn True\n",
    "\treturn False\n",
    "\n",
    "def obtem_intersecoes_adjacentes()"
   ]
  }
 ],
 "metadata": {
  "kernelspec": {
   "display_name": "Python 3",
   "language": "python",
   "name": "python3"
  },
  "language_info": {
   "codemirror_mode": {
    "name": "ipython",
    "version": 3
   },
   "file_extension": ".py",
   "mimetype": "text/x-python",
   "name": "python",
   "nbconvert_exporter": "python",
   "pygments_lexer": "ipython3",
   "version": "3.11.5"
  }
 },
 "nbformat": 4,
 "nbformat_minor": 2
}
