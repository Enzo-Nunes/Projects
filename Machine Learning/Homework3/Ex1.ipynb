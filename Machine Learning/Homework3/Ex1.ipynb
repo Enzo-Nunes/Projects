{
 "cells": [
  {
   "cell_type": "code",
   "execution_count": null,
   "metadata": {},
   "outputs": [],
   "source": [
    "import numpy as np\n",
    "\n",
    "# Vector of observations\n",
    "X = np.array([-1, 1, -1.2, 1.4, 1.9])\n",
    "\n",
    "# Design matrix for a 3rd-degree polynomial\n",
    "Phi = np.vstack([X**0, X**1, X**2, X**3]).T\n",
    "\n",
    "print(Phi)"
   ]
  },
  {
   "cell_type": "code",
   "execution_count": null,
   "metadata": {},
   "outputs": [],
   "source": [
    "# Target values array\n",
    "t = np.array([-2, 3, -3, 0, -3])\n",
    "\n",
    "# Compute the polynomial regression weights using the normal equation\n",
    "# with the design matrix calculated previously and the target values\n",
    "w = np.linalg.inv(Phi.T @ Phi) @ Phi.T @ t\n",
    "\n",
    "print(w)"
   ]
  }
 ],
 "metadata": {
  "kernelspec": {
   "display_name": "Python 3",
   "language": "python",
   "name": "python3"
  },
  "language_info": {
   "codemirror_mode": {
    "name": "ipython",
    "version": 3
   },
   "file_extension": ".py",
   "mimetype": "text/x-python",
   "name": "python",
   "nbconvert_exporter": "python",
   "pygments_lexer": "ipython3",
   "version": "3.12.7"
  }
 },
 "nbformat": 4,
 "nbformat_minor": 2
}
