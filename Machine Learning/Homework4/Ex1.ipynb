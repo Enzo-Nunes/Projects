{
 "cells": [
  {
   "cell_type": "code",
   "execution_count": 46,
   "metadata": {},
   "outputs": [
    {
     "name": "stdout",
     "output_type": "stream",
     "text": [
      "0.725153332725075\n"
     ]
    }
   ],
   "source": [
    "from sklearn.metrics import silhouette_samples\n",
    "import numpy as np\n",
    "\n",
    "# From the previous exercise\n",
    "X = np.array([[1, 1], [-1, -1], [0.5, 0.55]])\n",
    "cluster_probabilities = np.array([[0.9879, 0.0121], [0.0267, 0.9733], [0.9245, 0.0755]])\n",
    "\n",
    "# Perform the hard assignment\n",
    "hard_assignments = np.argmax(cluster_probabilities, axis=1)\n",
    "\n",
    "# Identify the larger cluster\n",
    "unique, counts = np.unique(hard_assignments, return_counts=True)\n",
    "larger_cluster = unique[np.argmax(counts)]\n",
    "\n",
    "# Calculate silhouette values for the larger cluster\n",
    "silhouette_vals = silhouette_samples(X, hard_assignments)\n",
    "\n",
    "# Filter out the silhouette values for the larger cluster\n",
    "silhouette_larger_cluster = silhouette_vals[hard_assignments == larger_cluster]\n",
    "\n",
    "# Calculate the average silhouette score for the larger cluster\n",
    "average_silhouette = np.mean(silhouette_larger_cluster)"
   ]
  }
 ],
 "metadata": {
  "kernelspec": {
   "display_name": "Python 3",
   "language": "python",
   "name": "python3"
  },
  "language_info": {
   "codemirror_mode": {
    "name": "ipython",
    "version": 3
   },
   "file_extension": ".py",
   "mimetype": "text/x-python",
   "name": "python",
   "nbconvert_exporter": "python",
   "pygments_lexer": "ipython3",
   "version": "3.12.7"
  }
 },
 "nbformat": 4,
 "nbformat_minor": 2
}
